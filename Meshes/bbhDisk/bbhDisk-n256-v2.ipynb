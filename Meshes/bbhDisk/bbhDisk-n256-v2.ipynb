{
 "cells": [
  {
   "cell_type": "markdown",
   "id": "70c4ad38-ae43-4f83-b2b0-7e16b98b4f49",
   "metadata": {},
   "source": [
    "# BBH Disk Meshes"
   ]
  },
  {
   "cell_type": "code",
   "execution_count": 1,
   "id": "3e84d3ff-5801-4dd9-8fa6-1e2bd2a3df34",
   "metadata": {},
   "outputs": [],
   "source": [
    "using GLMakie\n",
    "using GeometryBasics\n",
    "using SplitApplyCombine"
   ]
  },
  {
   "cell_type": "code",
   "execution_count": 2,
   "id": "7cbbd3ab-77b8-44ed-ab2c-eb96de494a43",
   "metadata": {},
   "outputs": [
    {
     "data": {
      "text/plain": [
       "get_rectangles (generic function with 1 method)"
      ]
     },
     "execution_count": 2,
     "metadata": {},
     "output_type": "execute_result"
    }
   ],
   "source": [
    "function get_rectangles(pos, rads)\n",
    "    recs = Vector{Rect3}()\n",
    "    for rad in rads\n",
    "        org = pos .- rad\n",
    "        push!(recs, Rect3(Point3f(org), Vec3f(rad * 2)))\n",
    "    end\n",
    "    return recs\n",
    "end"
   ]
  },
  {
   "cell_type": "markdown",
   "id": "913f75ae-dcaf-4c6b-af7d-9425983ffd60",
   "metadata": {},
   "source": [
    "## Discussion"
   ]
  },
  {
   "cell_type": "markdown",
   "id": "ade47b5f-c030-428e-b6d9-1382d309d75b",
   "metadata": {},
   "source": [
    "* Level 1 to 9: $256^3$\n",
    "* Level 10: $320^3$\n",
    "* Level 11 to 12: $160^3$"
   ]
  },
  {
   "cell_type": "code",
   "execution_count": 3,
   "id": "af4cdf88-09c1-4a77-8ea0-03a5edac2003",
   "metadata": {},
   "outputs": [
    {
     "data": {
      "text/plain": [
       "(320.0, 160.0)"
      ]
     },
     "execution_count": 3,
     "metadata": {},
     "output_type": "execute_result"
    }
   ],
   "source": [
    "(256/16*20), (256/8*5)"
   ]
  },
  {
   "cell_type": "markdown",
   "id": "47e11658-f776-4547-8f16-ffa48841d943",
   "metadata": {},
   "source": [
    "### Best max_grid_sizes (Gtheory)"
   ]
  },
  {
   "cell_type": "code",
   "execution_count": 4,
   "id": "d0f4c3d8-3f8b-4fb6-b1fe-83177bde43a3",
   "metadata": {},
   "outputs": [
    {
     "data": {
      "text/plain": [
       "5-element Vector{Vector{Float64}}:\n",
       " [161.26989438654377, 201.58736798317972, 126.99208415745596]\n",
       " [128.0, 160.0, 100.79368399158986]\n",
       " [101.59366732596477, 126.99208415745596, 80.0]\n",
       " [80.63494719327188, 100.79368399158986, 63.49604207872798]\n",
       " [64.0, 80.0, 50.39684199579493]"
      ]
     },
     "execution_count": 4,
     "metadata": {},
     "output_type": "execute_result"
    }
   ],
   "source": [
    "[[cbrt((256^3)/n), cbrt((320^3)/n), cbrt((160^3)/(n/2))] for n in [4, 8, 16, 32, 64]]"
   ]
  },
  {
   "cell_type": "markdown",
   "id": "f6539472-888e-48d4-8d19-f9811513ba75",
   "metadata": {},
   "source": [
    "## Paramters"
   ]
  },
  {
   "cell_type": "code",
   "execution_count": 5,
   "id": "0942f6b6-d8ad-477d-ac83-491b5de69d43",
   "metadata": {},
   "outputs": [
    {
     "name": "stdout",
     "output_type": "stream",
     "text": [
      "12, 12, 10\n"
     ]
    }
   ],
   "source": [
    "# Set rectangles\n",
    "pos_1 = [-6.508727e+00, -7.591869e+00, 0.0]\n",
    "pos_2 = [ 6.508727e+00,  7.591869e+00, 0.0]\n",
    "pos_3 = [0.0, 0.0, 0.0]\n",
    "\n",
    "rads_1 = [\n",
    "    [-1., 8., 8., 8., 8., 8., 8., 8., 8., 8., 5., 2.5],\n",
    "    [-1., 8., 8., 8., 8., 8., 8., 8., 8., 8., 5., 2.5],\n",
    "    [-1., 8., 8., 8., 8., 8., 8., 8., 8., 8., 5., 2.5],\n",
    "]\n",
    "rads_2 = [\n",
    "    [-1., 8., 8., 8., 8., 8., 8., 8., 8., 8., 5., 2.5],\n",
    "    [-1., 8., 8., 8., 8., 8., 8., 8., 8., 8., 5., 2.5],\n",
    "    [-1., 8., 8., 8., 8., 8., 8., 8., 8., 8., 5., 2.5],\n",
    "]\n",
    "rads_3 = [\n",
    "    [-1., 4096., 2048., 1024., 512., 256., 128., 64., 32., 20.],\n",
    "    [-1., 4096., 2048., 1024., 512., 256., 128., 64., 32., 20.],\n",
    "    [-1., 4096., 2048., 1024., 512., 256., 128., 64., 32., 20.],\n",
    "]\n",
    "\n",
    "# Rectangles\n",
    "recs_1 = get_rectangles(pos_1, invert(rads_1))\n",
    "recs_2 = get_rectangles(pos_2, invert(rads_2))\n",
    "recs_3 = get_rectangles(pos_3, invert(rads_3))\n",
    "\n",
    "println(length(recs_1), \", \", length(recs_2), \", \", length(recs_3))"
   ]
  },
  {
   "cell_type": "markdown",
   "id": "e4bd0c03-0749-4087-8620-44c2d38fa87b",
   "metadata": {},
   "source": [
    "## Plots"
   ]
  },
  {
   "cell_type": "markdown",
   "id": "5cc7cdf0-04ab-4f5a-b10d-b628d36429f7",
   "metadata": {},
   "source": [
    "### Down to Level 9"
   ]
  },
  {
   "cell_type": "code",
   "execution_count": null,
   "id": "23bf671b-245a-413a-ac8d-758c15f99a04",
   "metadata": {},
   "outputs": [],
   "source": [
    "let recs = [\n",
    "        recs_1[11], recs_1[12],\n",
    "        recs_2[11], recs_2[12],\n",
    "        recs_3[10], recs_3[9],\n",
    "    ]\n",
    "    # Plot\n",
    "    #with_theme(theme_dark()) do\n",
    "    fig = Figure(size = (1200,800))\n",
    "    axs = [\n",
    "        Axis3(fig[1, 1]; aspect = :data, azimuth=1.275pi, elevation=pi/8),\n",
    "        Axis3(fig[1, 2]; aspect = :data, azimuth=1.2pi, elevation=pi/8),\n",
    "        Axis3(fig[2, 1]; aspect = :data, azimuth=1.125pi, elevation=pi/8),\n",
    "        Axis3(fig[2, 2]; aspect = :data, azimuth=1.05pi, elevation=pi/8),\n",
    "    ]\n",
    "    #meshscatter!(fig[1, 1], r12_1)\n",
    "    #wireframe!(fig[1, 1], r12_1)\n",
    "    for ax in axs\n",
    "        for rec in recs\n",
    "            mesh!(ax, rec, transparency = true, alpha = 0.5)\n",
    "        end\n",
    "    end\n",
    "    fig\n",
    "    #end\n",
    "end"
   ]
  },
  {
   "cell_type": "code",
   "execution_count": null,
   "id": "ca6a4b34-d4c1-4cff-a3bc-512bb1e93760",
   "metadata": {},
   "outputs": [],
   "source": [
    "let recs = [\n",
    "        recs_1[11], recs_1[12],\n",
    "        recs_2[11], recs_2[12],\n",
    "        recs_3[10], recs_3[9],\n",
    "    ]\n",
    "    # Plot\n",
    "    #with_theme(theme_dark()) do\n",
    "    fig = Figure(size = (1200,800))\n",
    "    axs = [\n",
    "        Axis3(fig[1, 1]; aspect = :data, azimuth=0pi, elevation=0pi),\n",
    "        Axis3(fig[1, 2]; aspect = :data, azimuth=0pi, elevation=pi/2),\n",
    "    ]\n",
    "    #meshscatter!(fig[1, 1], r12_1)\n",
    "    #wireframe!(fig[1, 1], r12_1)\n",
    "    for ax in axs\n",
    "        for rec in recs\n",
    "            mesh!(ax, rec, transparency = true, alpha = 0.5)\n",
    "        end\n",
    "    end\n",
    "    fig\n",
    "    #end\n",
    "end"
   ]
  },
  {
   "cell_type": "markdown",
   "id": "8ceb8479-7716-4d6e-bda7-635ec3ca8565",
   "metadata": {},
   "source": [
    "### Down to Level 7"
   ]
  },
  {
   "cell_type": "code",
   "execution_count": null,
   "id": "eafc826c-d3a7-4090-b2c7-852383a2ebc2",
   "metadata": {},
   "outputs": [],
   "source": [
    "let recs = [\n",
    "        recs_1[11], recs_1[12],\n",
    "        recs_2[11], recs_2[12],\n",
    "        recs_3[10], recs_3[9], recs_3[8], recs_3[7],\n",
    "    ]\n",
    "    # Plot\n",
    "    fig = Figure(size = (1200,800))\n",
    "    ax = Axis3(fig[1, 1], aspect =:data)\n",
    "    for rec in recs\n",
    "        mesh!(fig[1, 1], rec, transparency = true, alpha = 0.5)\n",
    "    end\n",
    "    fig\n",
    "end"
   ]
  },
  {
   "cell_type": "markdown",
   "id": "873020c2-fb6c-4d68-b361-9a571378949b",
   "metadata": {},
   "source": [
    "### Down to Level 4"
   ]
  },
  {
   "cell_type": "code",
   "execution_count": null,
   "id": "3bc34da0-29fe-43b2-9f91-f1393f92c550",
   "metadata": {},
   "outputs": [],
   "source": [
    "let recs = [\n",
    "        recs_1[11], recs_1[12],\n",
    "        recs_2[11], recs_2[12],\n",
    "        recs_3[10], recs_3[9], recs_3[8], recs_3[7], recs_3[6], recs_3[5], recs_3[4],\n",
    "    ]\n",
    "    # Plot\n",
    "    fig = Figure(size = (1200,800))\n",
    "    ax = Axis3(fig[1, 1], aspect = :data, azimuth=1.275pi, elevation=pi/8)\n",
    "    for rec in recs\n",
    "        mesh!(fig[1, 1], rec, transparency = true, alpha = 0.5)\n",
    "    end\n",
    "    fig\n",
    "end"
   ]
  }
 ],
 "metadata": {
  "kernelspec": {
   "display_name": "Julia 1.11.2",
   "language": "julia",
   "name": "julia-1.11"
  },
  "language_info": {
   "file_extension": ".jl",
   "mimetype": "application/julia",
   "name": "julia",
   "version": "1.11.2"
  }
 },
 "nbformat": 4,
 "nbformat_minor": 5
}
